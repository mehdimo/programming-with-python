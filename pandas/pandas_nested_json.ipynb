{
 "cells": [
  {
   "cell_type": "markdown",
   "id": "55b9cdb2",
   "metadata": {},
   "source": [
    "# Read nested Json object using Pandas"
   ]
  },
  {
   "cell_type": "code",
   "execution_count": 1,
   "id": "21d85ca4",
   "metadata": {},
   "outputs": [],
   "source": [
    "data = {\"data\": [\n",
    "        {\n",
    "            \"state\": \"Florida\",\n",
    "            \"shortname\": \"FL\",\n",
    "            \"info\": {\"capital\": \"Tallahassee\", \"area\":65758},\n",
    "            \"counties\": [\n",
    "                {\"name\": \"Dade\", \"population\": 12345},\n",
    "                {\"name\": \"Broward\", \"population\": 40000},\n",
    "                {\"name\": \"Palm Beach\", \"population\": 60000},\n",
    "            ],\n",
    "        },\n",
    "        {\n",
    "            \"state\": \"Ohio\",\n",
    "            \"shortname\": \"OH\",\n",
    "            \"info\": {\"capital\": \"Columbus\", \"area\":44825},\n",
    "            \"counties\": [\n",
    "                {\"name\": \"Summit\", \"population\": 1234},\n",
    "                {\"name\": \"Cuyahoga\", \"population\": 1337},\n",
    "            ],\n",
    "        },\n",
    "    ]\n",
    "}"
   ]
  },
  {
   "cell_type": "code",
   "execution_count": 2,
   "id": "f301ff3e",
   "metadata": {},
   "outputs": [],
   "source": [
    "import pandas as pd"
   ]
  },
  {
   "cell_type": "code",
   "execution_count": 3,
   "id": "3edc144d",
   "metadata": {},
   "outputs": [
    {
     "data": {
      "text/html": [
       "<div>\n",
       "<style scoped>\n",
       "    .dataframe tbody tr th:only-of-type {\n",
       "        vertical-align: middle;\n",
       "    }\n",
       "\n",
       "    .dataframe tbody tr th {\n",
       "        vertical-align: top;\n",
       "    }\n",
       "\n",
       "    .dataframe thead th {\n",
       "        text-align: right;\n",
       "    }\n",
       "</style>\n",
       "<table border=\"1\" class=\"dataframe\">\n",
       "  <thead>\n",
       "    <tr style=\"text-align: right;\">\n",
       "      <th></th>\n",
       "      <th>name</th>\n",
       "      <th>population</th>\n",
       "      <th>state</th>\n",
       "      <th>shortname</th>\n",
       "      <th>info.capital</th>\n",
       "      <th>info.area</th>\n",
       "    </tr>\n",
       "  </thead>\n",
       "  <tbody>\n",
       "    <tr>\n",
       "      <th>0</th>\n",
       "      <td>Dade</td>\n",
       "      <td>12345</td>\n",
       "      <td>Florida</td>\n",
       "      <td>FL</td>\n",
       "      <td>Tallahassee</td>\n",
       "      <td>65758</td>\n",
       "    </tr>\n",
       "    <tr>\n",
       "      <th>1</th>\n",
       "      <td>Broward</td>\n",
       "      <td>40000</td>\n",
       "      <td>Florida</td>\n",
       "      <td>FL</td>\n",
       "      <td>Tallahassee</td>\n",
       "      <td>65758</td>\n",
       "    </tr>\n",
       "    <tr>\n",
       "      <th>2</th>\n",
       "      <td>Palm Beach</td>\n",
       "      <td>60000</td>\n",
       "      <td>Florida</td>\n",
       "      <td>FL</td>\n",
       "      <td>Tallahassee</td>\n",
       "      <td>65758</td>\n",
       "    </tr>\n",
       "    <tr>\n",
       "      <th>3</th>\n",
       "      <td>Summit</td>\n",
       "      <td>1234</td>\n",
       "      <td>Ohio</td>\n",
       "      <td>OH</td>\n",
       "      <td>Columbus</td>\n",
       "      <td>44825</td>\n",
       "    </tr>\n",
       "    <tr>\n",
       "      <th>4</th>\n",
       "      <td>Cuyahoga</td>\n",
       "      <td>1337</td>\n",
       "      <td>Ohio</td>\n",
       "      <td>OH</td>\n",
       "      <td>Columbus</td>\n",
       "      <td>44825</td>\n",
       "    </tr>\n",
       "  </tbody>\n",
       "</table>\n",
       "</div>"
      ],
      "text/plain": [
       "         name  population    state shortname info.capital info.area\n",
       "0        Dade       12345  Florida        FL  Tallahassee     65758\n",
       "1     Broward       40000  Florida        FL  Tallahassee     65758\n",
       "2  Palm Beach       60000  Florida        FL  Tallahassee     65758\n",
       "3      Summit        1234     Ohio        OH     Columbus     44825\n",
       "4    Cuyahoga        1337     Ohio        OH     Columbus     44825"
      ]
     },
     "execution_count": 3,
     "metadata": {},
     "output_type": "execute_result"
    }
   ],
   "source": [
    "result = pd.json_normalize(\n",
    "    data[\"data\"], \"counties\", [\"state\", \"shortname\",\n",
    "                              [\"info\", \"capital\"],\n",
    "                              [\"info\", \"area\"]]\n",
    ")\n",
    "result"
   ]
  },
  {
   "cell_type": "code",
   "execution_count": null,
   "id": "eb11a8d4",
   "metadata": {},
   "outputs": [],
   "source": []
  }
 ],
 "metadata": {
  "kernelspec": {
   "display_name": "Python 3 (ipykernel)",
   "language": "python",
   "name": "python3"
  },
  "language_info": {
   "codemirror_mode": {
    "name": "ipython",
    "version": 3
   },
   "file_extension": ".py",
   "mimetype": "text/x-python",
   "name": "python",
   "nbconvert_exporter": "python",
   "pygments_lexer": "ipython3",
   "version": "3.9.7"
  }
 },
 "nbformat": 4,
 "nbformat_minor": 5
}
