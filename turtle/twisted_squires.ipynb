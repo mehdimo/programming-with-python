{
 "cells": [
  {
   "cell_type": "code",
   "execution_count": 1,
   "id": "d271d8c9",
   "metadata": {},
   "outputs": [],
   "source": [
    "import turtle"
   ]
  },
  {
   "cell_type": "code",
   "execution_count": 2,
   "id": "64d8cfa4",
   "metadata": {},
   "outputs": [],
   "source": [
    "def move(tur, dirs):\n",
    "    func_map = {'f': tur.forward, 'l': tur.left, 'r': tur.right}\n",
    "    for mov, p in dirs:\n",
    "        func_map[mov](p)\n",
    "\n",
    "def draw():\n",
    "    tur=turtle.Turtle()\n",
    "    scr=tur.getscreen()\n",
    "    turtle.screensize(600, 600)\n",
    "    scr.title(\"Christmas Tree!\")\n",
    "    scr.bgcolor(\"white\")\n",
    "    tur.color(\"black\")\n",
    "    tur.speed(10)\n",
    "    tur.pensize(2)\n",
    "\n",
    "    for k in range(69):\n",
    "        for i in range(4):\n",
    "            tur.forward(300 - k*4)\n",
    "            tur.left(90)\n",
    "        tur.left(10)\n",
    "\n",
    "    turtle.done()"
   ]
  },
  {
   "cell_type": "code",
   "execution_count": null,
   "id": "216ab64e",
   "metadata": {},
   "outputs": [],
   "source": [
    "draw()"
   ]
  },
  {
   "cell_type": "code",
   "execution_count": null,
   "id": "38ad0717",
   "metadata": {},
   "outputs": [],
   "source": []
  }
 ],
 "metadata": {
  "kernelspec": {
   "display_name": "Python 3 (ipykernel)",
   "language": "python",
   "name": "python3"
  },
  "language_info": {
   "codemirror_mode": {
    "name": "ipython",
    "version": 3
   },
   "file_extension": ".py",
   "mimetype": "text/x-python",
   "name": "python",
   "nbconvert_exporter": "python",
   "pygments_lexer": "ipython3",
   "version": "3.9.7"
  }
 },
 "nbformat": 4,
 "nbformat_minor": 5
}
