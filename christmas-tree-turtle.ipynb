{
 "cells": [
  {
   "cell_type": "markdown",
   "id": "4a2f1d1b",
   "metadata": {},
   "source": [
    "## Draw a chrsitmas tree using ipyturtle3 "
   ]
  },
  {
   "cell_type": "code",
   "execution_count": 29,
   "id": "7c576c86",
   "metadata": {},
   "outputs": [
    {
     "data": {
      "application/vnd.jupyter.widget-view+json": {
       "model_id": "dec7ab8c9d8b4a4289064c8cb8eb05e9",
       "version_major": 2,
       "version_minor": 0
      },
      "text/plain": [
       "Canvas(height=320, width=480)"
      ]
     },
     "metadata": {},
     "output_type": "display_data"
    }
   ],
   "source": [
    "import ipyturtle3 as turtle\n",
    "from ipyturtle3 import hold_canvas\n",
    "myCanvas=turtle.Canvas(width=480,height=320)\n",
    "display(myCanvas)\n",
    "myTS=turtle.TurtleScreen(myCanvas)\n",
    "myTS.clear()\n",
    "myTS.bgcolor(\"lavender\")\n",
    "tur=turtle.Turtle(myTS)\n",
    "\n",
    "def move(tur, dirs):\n",
    "    func_map = {'f': tur.forward, 'l': tur.left, 'r': tur.right}\n",
    "    for mov, p in dirs:\n",
    "        func_map[mov](p)\n",
    "\n",
    "def make_ball(tur, x, y, r=10, color=\"red\"):\n",
    "    tur.penup()\n",
    "    tur.color(color)\n",
    "    tur.goto(x, y)\n",
    "    tur.begin_fill()\n",
    "    tur.circle(r)\n",
    "    tur.end_fill()\n",
    "\n",
    "def draw():\n",
    "    tur.color(\"green\")\n",
    "    tur.pensize(5)\n",
    "\n",
    "    # Creating Right half of the tree\n",
    "    tur.begin_fill()\n",
    "    d = [('f', 100), ('l', 150), ('f', 90), ('r', 150), ('f', 60), ('l', 150),\n",
    "         ('f', 60), ('r', 150), ('f', 40), ('l', 150), ('f', 100)]\n",
    "    move(tur, d)\n",
    "    tur.end_fill()\n",
    "\n",
    "    #left half of the tree\n",
    "    d2= [('l', 60),('f', 100),('l', 150),('f', 40),('r', 150),('f', 60),\n",
    "         ('l', 150),('f', 60),('r', 150),('f', 90),('l', 150),('f', 133)]\n",
    "    tur.begin_fill()\n",
    "    move(tur, d2)\n",
    "    tur.end_fill()\n",
    "\n",
    "    #Creating the trunck of the tree\n",
    "    tur.color(\"brown\")\n",
    "    tur.pensize(1)\n",
    "    tur.begin_fill()\n",
    "    d3 = [('r', 90),('f', 80),('r', 90),('f', 40),('r', 90),('f', 80)]\n",
    "    move(tur, d3)\n",
    "    tur.end_fill()\n",
    "\n",
    "    #Creating the balls on the Christmas Tree\n",
    "    make_ball(tur, 110, -10)\n",
    "    make_ball(tur, -120, -10)\n",
    "    make_ball(tur, 100, 40, r=10, color=\"gold\")\n",
    "    make_ball(tur, -105, 38, r=10, color=\"gold\")\n",
    "    make_ball(tur, 85, 70, r=7)\n",
    "    make_ball(tur, -95, 70, r=7)\n",
    "\n",
    "    #Drawing the bells\n",
    "    tur.shape(\"triangle\")\n",
    "    tur.fillcolor(\"yellow\")\n",
    "    tur.goto(-20, 30)\n",
    "    tur.setheading(90)\n",
    "    tur.stamp()\n",
    "    tur.fillcolor(\"red\")\n",
    "    tur.goto(20, 60)\n",
    "    tur.setheading(90)\n",
    "    tur.stamp()\n",
    "    tur.goto(-40, 75)\n",
    "    tur.setheading(90)\n",
    "    tur.stamp()\n",
    "\n",
    "    # Printing the star using for loop\n",
    "    tur.penup()\n",
    "    tur.color(\"yellow\")\n",
    "    tur.goto(-20, 110)\n",
    "    tur.begin_fill()\n",
    "    tur.pendown()\n",
    "    for i in range(5):\n",
    "        tur.forward(40)\n",
    "        tur.right(144)\n",
    "    tur.end_fill()\n",
    "\n",
    "    tur.penup()\n",
    "\n",
    "draw()"
   ]
  },
  {
   "cell_type": "code",
   "execution_count": null,
   "id": "0518d040",
   "metadata": {},
   "outputs": [],
   "source": []
  }
 ],
 "metadata": {
  "kernelspec": {
   "display_name": "Python 3 (ipykernel)",
   "language": "python",
   "name": "python3"
  },
  "language_info": {
   "codemirror_mode": {
    "name": "ipython",
    "version": 3
   },
   "file_extension": ".py",
   "mimetype": "text/x-python",
   "name": "python",
   "nbconvert_exporter": "python",
   "pygments_lexer": "ipython3",
   "version": "3.9.7"
  }
 },
 "nbformat": 4,
 "nbformat_minor": 5
}
