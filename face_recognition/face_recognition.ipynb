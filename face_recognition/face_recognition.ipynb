{
 "cells": [
  {
   "cell_type": "code",
   "execution_count": null,
   "id": "fe3ce3b2",
   "metadata": {},
   "outputs": [],
   "source": [
    "import face_recognition\n",
    "import cv2\n",
    "import numpy as np"
   ]
  },
  {
   "cell_type": "code",
   "execution_count": null,
   "id": "876d0dfb",
   "metadata": {},
   "outputs": [],
   "source": [
    "video = \"files/jimmy_fallon_video.mp4\"\n",
    "video_capture = cv2.VideoCapture(video)\n",
    "print(\"video file capture...\")\n",
    "image_person1 = face_recognition.\\\n",
    "        load_image_file(\"files/Jimmy_Fallon_2013.jpeg\")\n",
    "face_encoding1 = face_recognition.\\\n",
    "        face_encodings(image_person1)[0]\n",
    "\n",
    "known_face_encodings = [face_encoding1]\n",
    "known_face_names = [\"Jimmy Fallon\"]\n",
    "print(\"face encoding created.\")"
   ]
  },
  {
   "cell_type": "code",
   "execution_count": null,
   "id": "cc5ba209",
   "metadata": {},
   "outputs": [],
   "source": [
    "process_frame = True\n",
    "while True:\n",
    "    ret, frame = video_capture.read()\n",
    "    \n",
    "    if process_frame:\n",
    "        small_frame = cv2.resize(frame, \n",
    "                        (0, 0), fx=0.25, fy=0.25)\n",
    "        rgb_frame = small_frame[:, :, ::-1]\n",
    "        \n",
    "        face_locs = face_recognition.\\\n",
    "            face_locations(rgb_frame)\n",
    "        face_encodings = face_recognition.\\\n",
    "            face_encodings(rgb_frame, \n",
    "                           face_locs)\n",
    "        \n",
    "        face_names = []\n",
    "        for face_encoding in face_encodings:\n",
    "            matches = face_recognition.\\\n",
    "                compare_faces(known_face_encodings, \n",
    "                              face_encoding)\n",
    "            name = \"?\"\n",
    "            face_distances = face_recognition.\\\n",
    "                face_distance(known_face_encodings, \n",
    "                              face_encoding)\n",
    "            best_match = np.argmin(face_distances)\n",
    "            if matches[best_match]:\n",
    "                name = known_face_names[best_match]\n",
    "                \n",
    "            face_names.append(name)\n",
    "            \n",
    "    process_frame = not process_frame\n",
    "    \n",
    "    loc_names = zip(face_locs, face_names)\n",
    "    for (top,right,bottom,left), name in loc_names:\n",
    "        top *= 4\n",
    "        right *= 4\n",
    "        bottom *= 4\n",
    "        left *= 4\n",
    "        \n",
    "        cv2.rectangle(frame, (left, top), \n",
    "                          (right, bottom), \n",
    "                          (0, 0, 255), 2)\n",
    "        cv2.rectangle(frame, (left, bottom - 35), \n",
    "                      (right, bottom), (0, 0, 255), \n",
    "                      cv2.FILLED)\n",
    "        font = cv2.FONT_HERSHEY_DUPLEX\n",
    "        cv2.putText(frame, name, \n",
    "                    (left + 6, bottom - 6), \n",
    "                    font, 1.0, (255, 255, 255), 1)\n",
    "        \n",
    "    cv2.imshow('Video', frame)\n",
    "    \n",
    "    if cv2.waitKey(1) & 0xFF == ord('q'):\n",
    "        break\n",
    "        \n",
    "video_capture.release()\n",
    "cv2.destroyAllWindows()"
   ]
  },
  {
   "cell_type": "code",
   "execution_count": null,
   "id": "378b548e",
   "metadata": {},
   "outputs": [],
   "source": []
  }
 ],
 "metadata": {
  "kernelspec": {
   "display_name": "Python 3 (ipykernel)",
   "language": "python",
   "name": "python3"
  },
  "language_info": {
   "codemirror_mode": {
    "name": "ipython",
    "version": 3
   },
   "file_extension": ".py",
   "mimetype": "text/x-python",
   "name": "python",
   "nbconvert_exporter": "python",
   "pygments_lexer": "ipython3",
   "version": "3.9.7"
  }
 },
 "nbformat": 4,
 "nbformat_minor": 5
}
